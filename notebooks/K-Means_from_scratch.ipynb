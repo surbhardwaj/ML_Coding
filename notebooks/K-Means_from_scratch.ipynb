{
 "cells": [
  {
   "cell_type": "code",
   "execution_count": 133,
   "metadata": {},
   "outputs": [],
   "source": [
    "import numpy as np\n",
    "import random\n",
    "from collections import defaultdict\n",
    "import matplotlib.pyplot as plt"
   ]
  },
  {
   "cell_type": "code",
   "execution_count": 121,
   "metadata": {},
   "outputs": [],
   "source": [
    "### Assign data points to the closets cluster\n",
    "### Output: a dictionary with cluster id as keys and list of data points belonging to taht cluster as values\n",
    "def assignCentroids(features, centroids):\n",
    "    clusters = defaultdict(list)\n",
    "    for i in range(len(features)):\n",
    "        ## Frobenius L2 norm\n",
    "        dist =  [np.linalg.norm(features[i]-mu) for mu in centroids]\n",
    "        min_idx = dist.index(min(dist))      \n",
    "        clusters[min_idx].append(i)\n",
    "\n",
    "    return clusters\n",
    "        \n",
    "        \n",
    "        \n",
    "    "
   ]
  },
  {
   "cell_type": "code",
   "execution_count": 122,
   "metadata": {},
   "outputs": [],
   "source": [
    "def computeCentroids(clusters, features):\n",
    "    new_centroids = []\n",
    "    keys = sorted(clusters.keys())\n",
    "    for key in keys:\n",
    "        data = features[clusters[key]]\n",
    "        mean = np.mean(data, axis=0)\n",
    "        new_centroids.append(mean)\n",
    "        \n",
    "    return new_centroids"
   ]
  },
  {
   "cell_type": "code",
   "execution_count": 170,
   "metadata": {},
   "outputs": [],
   "source": [
    "def Hasconverged(data, clusters, centroids):\n",
    "    #ToDo\n",
    "    J = 0\n",
    "    dist = 0\n",
    "    for k in clusters.keys():\n",
    "        curr_cluster = centroids[k]\n",
    "        cluster_points = data[clusters[k]]\n",
    "        for point in cluster_points:\n",
    "            dist+=((point-curr_cluster)**2).sum()\n",
    "    \n",
    "    J = dist/len(data)\n",
    "    \n",
    "    print(\"Cost after current iteration\", J)\n",
    "    if J <= 0.002:\n",
    "        return True\n",
    "    else:\n",
    "        return False \n"
   ]
  },
  {
   "cell_type": "code",
   "execution_count": 171,
   "metadata": {},
   "outputs": [],
   "source": [
    "def Kmeans(features, k):\n",
    "    centroids = features[np.random.choice(features.shape[0], size=k, replace=False)]\n",
    "\n",
    "    max_iter = 50\n",
    "    curr_iter = 1\n",
    "    while(curr_iter < max_iter):\n",
    "        \n",
    "        clusters = assignCentroids(features, centroids)\n",
    "        #print(clusters)\n",
    "        centroids = computeCentroids(clusters, features)\n",
    "        \n",
    "        \n",
    "        curr_iter+=1\n",
    "        \n",
    "        \n",
    "        if Hasconverged(X, clusters, centroids)==True:\n",
    "            return (centroids, clusters)\n",
    "        \n",
    "    return (centroids, clusters)\n",
    "            \n",
    "    \n",
    "    \n",
    "\n",
    "    \n",
    "    "
   ]
  },
  {
   "cell_type": "code",
   "execution_count": 172,
   "metadata": {},
   "outputs": [],
   "source": [
    "## Generate data\n",
    "\n",
    "# x1 = np.random.randn(5,2) + 5\n",
    "# x2 = np.random.randn(5,2) - 5\n",
    "X = np.random.random([100,2])\n",
    "num_clusters = 2"
   ]
  },
  {
   "cell_type": "code",
   "execution_count": 173,
   "metadata": {},
   "outputs": [
    {
     "name": "stdout",
     "output_type": "stream",
     "text": [
      "Cost after current iteration 0.11874160985293739\n",
      "Cost after current iteration 0.10634217407493483\n",
      "Cost after current iteration 0.10032575741034083\n",
      "Cost after current iteration 0.09906932127876385\n",
      "Cost after current iteration 0.09892775408662988\n",
      "Cost after current iteration 0.09886099334424055\n",
      "Cost after current iteration 0.09886099334424055\n",
      "Cost after current iteration 0.09886099334424055\n",
      "Cost after current iteration 0.09886099334424055\n",
      "Cost after current iteration 0.09886099334424055\n",
      "Cost after current iteration 0.09886099334424055\n",
      "Cost after current iteration 0.09886099334424055\n",
      "Cost after current iteration 0.09886099334424055\n",
      "Cost after current iteration 0.09886099334424055\n",
      "Cost after current iteration 0.09886099334424055\n",
      "Cost after current iteration 0.09886099334424055\n",
      "Cost after current iteration 0.09886099334424055\n",
      "Cost after current iteration 0.09886099334424055\n",
      "Cost after current iteration 0.09886099334424055\n",
      "Cost after current iteration 0.09886099334424055\n",
      "Cost after current iteration 0.09886099334424055\n",
      "Cost after current iteration 0.09886099334424055\n",
      "Cost after current iteration 0.09886099334424055\n",
      "Cost after current iteration 0.09886099334424055\n",
      "Cost after current iteration 0.09886099334424055\n",
      "Cost after current iteration 0.09886099334424055\n",
      "Cost after current iteration 0.09886099334424055\n",
      "Cost after current iteration 0.09886099334424055\n",
      "Cost after current iteration 0.09886099334424055\n",
      "Cost after current iteration 0.09886099334424055\n",
      "Cost after current iteration 0.09886099334424055\n",
      "Cost after current iteration 0.09886099334424055\n",
      "Cost after current iteration 0.09886099334424055\n",
      "Cost after current iteration 0.09886099334424055\n",
      "Cost after current iteration 0.09886099334424055\n",
      "Cost after current iteration 0.09886099334424055\n",
      "Cost after current iteration 0.09886099334424055\n",
      "Cost after current iteration 0.09886099334424055\n",
      "Cost after current iteration 0.09886099334424055\n",
      "Cost after current iteration 0.09886099334424055\n",
      "Cost after current iteration 0.09886099334424055\n",
      "Cost after current iteration 0.09886099334424055\n",
      "Cost after current iteration 0.09886099334424055\n",
      "Cost after current iteration 0.09886099334424055\n",
      "Cost after current iteration 0.09886099334424055\n",
      "Cost after current iteration 0.09886099334424055\n",
      "Cost after current iteration 0.09886099334424055\n",
      "Cost after current iteration 0.09886099334424055\n",
      "Cost after current iteration 0.09886099334424055\n"
     ]
    }
   ],
   "source": [
    "centroids, clusters = Kmeans(X, num_clusters)"
   ]
  },
  {
   "cell_type": "code",
   "execution_count": 174,
   "metadata": {},
   "outputs": [
    {
     "data": {
      "text/plain": [
       "[array([0.38644761, 0.76989702]), array([0.57872954, 0.24675068])]"
      ]
     },
     "execution_count": 174,
     "metadata": {},
     "output_type": "execute_result"
    }
   ],
   "source": [
    "centroids"
   ]
  },
  {
   "cell_type": "code",
   "execution_count": 175,
   "metadata": {},
   "outputs": [],
   "source": [
    "#clusters"
   ]
  },
  {
   "cell_type": "code",
   "execution_count": 177,
   "metadata": {},
   "outputs": [
    {
     "data": {
      "text/plain": [
       "[<matplotlib.lines.Line2D at 0x7f9133a6acf8>]"
      ]
     },
     "execution_count": 177,
     "metadata": {},
     "output_type": "execute_result"
    },
    {
     "data": {
      "image/png": "[encoded data removed]",
      "text/plain": [
       "<Figure size 432x288 with 1 Axes>"
      ]
     },
     "metadata": {
      "needs_background": "light"
     },
     "output_type": "display_data"
    }
   ],
   "source": [
    "plt.scatter(X[:, 0], X[:,1])\n",
    "plt.plot(centroids[0][0],centroids[0][1] ,'rX') \n",
    "plt.plot(centroids[1][0],centroids[1][1],'rX') "
   ]
  },
  {
   "cell_type": "code",
   "execution_count": null,
   "metadata": {},
   "outputs": [],
   "source": []
  },
  {
   "cell_type": "code",
   "execution_count": null,
   "metadata": {},
   "outputs": [],
   "source": [
    "## Time complexity O(num_iter * N * k * d)\n"
   ]
  }
 ],
 "metadata": {
  "kernelspec": {
   "display_name": "Python 3",
   "language": "python",
   "name": "python3"
  },
  "language_info": {
   "codemirror_mode": {
    "name": "ipython",
    "version": 3
   },
   "file_extension": ".py",
   "mimetype": "text/x-python",
   "name": "python",
   "nbconvert_exporter": "python",
   "pygments_lexer": "ipython3",
   "version": "3.6.9"
  }
 },
 "nbformat": 4,
 "nbformat_minor": 4
}
