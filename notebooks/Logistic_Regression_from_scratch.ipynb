{
 "cells": [
  {
   "cell_type": "code",
   "execution_count": 21,
   "metadata": {},
   "outputs": [],
   "source": [
    "import numpy as np\n",
    "import pandas as pd\n",
    "from sklearn.datasets import make_classification\n",
    "import matplotlib.pyplot as plt\n"
   ]
  },
  {
   "cell_type": "code",
   "execution_count": 26,
   "metadata": {},
   "outputs": [],
   "source": [
    "X, y = make_classification(n_features=2, n_redundant=0, \n",
    "                           n_informative=2, random_state=1, \n",
    "                           n_clusters_per_class=1)"
   ]
  },
  {
   "cell_type": "code",
   "execution_count": 30,
   "metadata": {},
   "outputs": [],
   "source": [
    "class LogisticReg():\n",
    "    def __init__(self, epochs, lr):\n",
    "        \n",
    "        self.epochs = epochs\n",
    "        self.lr = lr\n",
    "        self.weights = None\n",
    "        self.bias = None\n",
    "        \n",
    "        \n",
    "    def sigmoid(self, X):\n",
    "        return (1/(1+np.exp(-X)))\n",
    "    \n",
    "    \n",
    "    \n",
    "    def cross_entropy_loss(self, yhat, y):\n",
    "        \n",
    "        return -np.mean((y*np.log(yhat)-(1-y)*np.log(1-yhat)))\n",
    "    \n",
    "        \n",
    "    def normalize(self, X):\n",
    "        \n",
    "        return ((X-X.mean(axis=0))/X.std(axis=0))\n",
    "        \n",
    "    def fit(self, X, Y):\n",
    "        \n",
    "        m, n = X.shape\n",
    "        \n",
    "        y = Y.reshape(m,1)\n",
    "        \n",
    "        self.weights = np.zeros((n,1))\n",
    "        self.bias = 0\n",
    "        \n",
    "        x = self.normalize(X)\n",
    "        losses = []\n",
    "        \n",
    "        for _ in range(self.epochs):\n",
    "            \n",
    "            lc = np.dot(x, self.weights) + self.bias\n",
    "            yhat = self.sigmoid(lc)\n",
    "            loss = self.cross_entropy_loss(yhat, y)\n",
    "            dw = (1/m)*np.dot(X.T, (yhat-y))\n",
    "            db = (1/m)*np.sum((yhat-y))\n",
    "            \n",
    "            self.weights-=self.lr*dw\n",
    "            self.bias -= self.lr * db\n",
    "            \n",
    "            \n",
    "        return self.weights, self.bias\n",
    "    \n",
    "    \n",
    "    def predict(test):\n",
    "        \n",
    "        prob = self.sigmoid(np.dot(test, self.weights)+self.bias)\n",
    "        \n",
    "        pred_class = []\n",
    "    \n",
    "        pred_class = [1 if i > 0.5 else 0 for i in prob]\n",
    "    \n",
    "        return np.array(pred_class)\n",
    "            \n",
    "            \n",
    "            \n",
    "            \n",
    "            \n",
    "            \n",
    "        \n",
    "        "
   ]
  },
  {
   "cell_type": "code",
   "execution_count": 31,
   "metadata": {},
   "outputs": [],
   "source": [
    "def plot_decision_boundary(X, w, b):\n",
    "    \n",
    "    # X --> Inputs\n",
    "    # w --> weights\n",
    "    # b --> bias\n",
    "    \n",
    "    # The Line is y=mx+c\n",
    "    # So, Equate mx+c = w.X + b\n",
    "    # Solving we find m and c\n",
    "    x1 = [min(X[:,0]), max(X[:,0])]\n",
    "    m = -w[0]/w[1]\n",
    "    c = -b/w[1]\n",
    "    x2 = m*x1 + c\n",
    "    \n",
    "    # Plotting\n",
    "    fig = plt.figure(figsize=(10,8))\n",
    "    plt.plot(X[:, 0][y==0], X[:, 1][y==0], \"g^\")\n",
    "    plt.plot(X[:, 0][y==1], X[:, 1][y==1], \"bs\")\n",
    "    plt.xlim([-2, 2])\n",
    "    plt.ylim([0, 2.2])\n",
    "    plt.xlabel(\"feature 1\")\n",
    "    plt.ylabel(\"feature 2\")\n",
    "    plt.title('Decision Boundary')\n",
    "    plt.plot(x1, x2, 'y-')"
   ]
  },
  {
   "cell_type": "code",
   "execution_count": 32,
   "metadata": {},
   "outputs": [
    {
     "data": {
      "image/png": "[encoded data removed]",
      "text/plain": [
       "<Figure size 720x576 with 1 Axes>"
      ]
     },
     "metadata": {
      "needs_background": "light"
     },
     "output_type": "display_data"
    }
   ],
   "source": [
    "clf = LogisticReg(epochs=1000, lr=0.01)\n",
    "w, b  = clf.fit(X, y)\n",
    "# Plotting Decision Boundary\n",
    "plot_decision_boundary(X, w, b)"
   ]
  },
  {
   "cell_type": "code",
   "execution_count": null,
   "metadata": {},
   "outputs": [],
   "source": []
  },
  {
   "cell_type": "code",
   "execution_count": null,
   "metadata": {},
   "outputs": [],
   "source": []
  },
  {
   "cell_type": "code",
   "execution_count": null,
   "metadata": {},
   "outputs": [],
   "source": []
  }
 ],
 "metadata": {
  "kernelspec": {
   "display_name": "Python 3",
   "language": "python",
   "name": "python3"
  },
  "language_info": {
   "codemirror_mode": {
    "name": "ipython",
    "version": 3
   },
   "file_extension": ".py",
   "mimetype": "text/x-python",
   "name": "python",
   "nbconvert_exporter": "python",
   "pygments_lexer": "ipython3",
   "version": "3.6.9"
  }
 },
 "nbformat": 4,
 "nbformat_minor": 4
}
