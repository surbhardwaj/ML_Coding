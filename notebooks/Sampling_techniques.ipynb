{
 "cells": [
  {
   "cell_type": "code",
   "execution_count": 18,
   "metadata": {},
   "outputs": [],
   "source": [
    "from sklearn import datasets\n",
    "from sklearn.model_selection import train_test_split\n",
    "import pandas as pd"
   ]
  },
  {
   "cell_type": "code",
   "execution_count": 19,
   "metadata": {},
   "outputs": [],
   "source": [
    "X, y = datasets.make_classification(n_samples=500, n_features=4)"
   ]
  },
  {
   "cell_type": "code",
   "execution_count": 20,
   "metadata": {},
   "outputs": [],
   "source": [
    "df = pd.DataFrame(X, columns = ['Column_A','Column_B','Column_C', 'Column_D'])"
   ]
  },
  {
   "cell_type": "markdown",
   "metadata": {},
   "source": [
    "### Simple Random Sampling"
   ]
  },
  {
   "cell_type": "markdown",
   "metadata": {},
   "source": [
    "###### Say you want to select a subset of a population in which each member of the subset has an equal probability of being chosen."
   ]
  },
  {
   "cell_type": "code",
   "execution_count": 21,
   "metadata": {},
   "outputs": [],
   "source": [
    "sample_df = df.sample(100)"
   ]
  },
  {
   "cell_type": "code",
   "execution_count": 22,
   "metadata": {},
   "outputs": [
    {
     "data": {
      "text/html": [
       "<div>\n",
       "<style scoped>\n",
       "    .dataframe tbody tr th:only-of-type {\n",
       "        vertical-align: middle;\n",
       "    }\n",
       "\n",
       "    .dataframe tbody tr th {\n",
       "        vertical-align: top;\n",
       "    }\n",
       "\n",
       "    .dataframe thead th {\n",
       "        text-align: right;\n",
       "    }\n",
       "</style>\n",
       "<table border=\"1\" class=\"dataframe\">\n",
       "  <thead>\n",
       "    <tr style=\"text-align: right;\">\n",
       "      <th></th>\n",
       "      <th>Column_A</th>\n",
       "      <th>Column_B</th>\n",
       "      <th>Column_C</th>\n",
       "      <th>Column_D</th>\n",
       "    </tr>\n",
       "  </thead>\n",
       "  <tbody>\n",
       "    <tr>\n",
       "      <th>446</th>\n",
       "      <td>0.131510</td>\n",
       "      <td>-0.135237</td>\n",
       "      <td>-0.301335</td>\n",
       "      <td>0.294642</td>\n",
       "    </tr>\n",
       "    <tr>\n",
       "      <th>420</th>\n",
       "      <td>-0.255640</td>\n",
       "      <td>2.112345</td>\n",
       "      <td>0.119149</td>\n",
       "      <td>1.498758</td>\n",
       "    </tr>\n",
       "    <tr>\n",
       "      <th>0</th>\n",
       "      <td>-0.326456</td>\n",
       "      <td>2.399035</td>\n",
       "      <td>0.227455</td>\n",
       "      <td>1.579644</td>\n",
       "    </tr>\n",
       "    <tr>\n",
       "      <th>436</th>\n",
       "      <td>0.557099</td>\n",
       "      <td>-1.356279</td>\n",
       "      <td>-1.078859</td>\n",
       "      <td>0.370704</td>\n",
       "    </tr>\n",
       "    <tr>\n",
       "      <th>329</th>\n",
       "      <td>-1.118798</td>\n",
       "      <td>-0.492959</td>\n",
       "      <td>2.978190</td>\n",
       "      <td>-4.347386</td>\n",
       "    </tr>\n",
       "    <tr>\n",
       "      <th>...</th>\n",
       "      <td>...</td>\n",
       "      <td>...</td>\n",
       "      <td>...</td>\n",
       "      <td>...</td>\n",
       "    </tr>\n",
       "    <tr>\n",
       "      <th>386</th>\n",
       "      <td>0.780510</td>\n",
       "      <td>-1.379696</td>\n",
       "      <td>-1.642826</td>\n",
       "      <td>1.102342</td>\n",
       "    </tr>\n",
       "    <tr>\n",
       "      <th>401</th>\n",
       "      <td>1.456757</td>\n",
       "      <td>-2.835057</td>\n",
       "      <td>-3.000608</td>\n",
       "      <td>1.766248</td>\n",
       "    </tr>\n",
       "    <tr>\n",
       "      <th>293</th>\n",
       "      <td>1.095159</td>\n",
       "      <td>-2.131240</td>\n",
       "      <td>-2.255818</td>\n",
       "      <td>1.327935</td>\n",
       "    </tr>\n",
       "    <tr>\n",
       "      <th>348</th>\n",
       "      <td>0.206039</td>\n",
       "      <td>-1.039499</td>\n",
       "      <td>-0.263300</td>\n",
       "      <td>-0.465367</td>\n",
       "    </tr>\n",
       "    <tr>\n",
       "      <th>451</th>\n",
       "      <td>-0.791596</td>\n",
       "      <td>0.768474</td>\n",
       "      <td>1.825311</td>\n",
       "      <td>-1.824553</td>\n",
       "    </tr>\n",
       "  </tbody>\n",
       "</table>\n",
       "<p>100 rows × 4 columns</p>\n",
       "</div>"
      ],
      "text/plain": [
       "     Column_A  Column_B  Column_C  Column_D\n",
       "446  0.131510 -0.135237 -0.301335  0.294642\n",
       "420 -0.255640  2.112345  0.119149  1.498758\n",
       "0   -0.326456  2.399035  0.227455  1.579644\n",
       "436  0.557099 -1.356279 -1.078859  0.370704\n",
       "329 -1.118798 -0.492959  2.978190 -4.347386\n",
       "..        ...       ...       ...       ...\n",
       "386  0.780510 -1.379696 -1.642826  1.102342\n",
       "401  1.456757 -2.835057 -3.000608  1.766248\n",
       "293  1.095159 -2.131240 -2.255818  1.327935\n",
       "348  0.206039 -1.039499 -0.263300 -0.465367\n",
       "451 -0.791596  0.768474  1.825311 -1.824553\n",
       "\n",
       "[100 rows x 4 columns]"
      ]
     },
     "execution_count": 22,
     "metadata": {},
     "output_type": "execute_result"
    }
   ],
   "source": [
    "sample_df"
   ]
  },
  {
   "cell_type": "markdown",
   "metadata": {},
   "source": [
    "### Stratified Sampling\n"
   ]
  },
  {
   "cell_type": "code",
   "execution_count": 23,
   "metadata": {},
   "outputs": [],
   "source": [
    "from sklearn.model_selection import train_test_split\n",
    "X_train, X_test, y_train, y_test = train_test_split(X, y,\n",
    "                                                    stratify=y, \n",
    "                                                    test_size=0.25)\n",
    "\n",
    "## It produces same percentage of class-0/1 in train and test data.\n"
   ]
  },
  {
   "cell_type": "markdown",
   "metadata": {},
   "source": [
    "### Reservoir Sampling"
   ]
  },
  {
   "cell_type": "markdown",
   "metadata": {},
   "source": [
    "Let us assume we have to sample 5 objects out of an infinite stream such that each element has an equal probability of getting selected.\n",
    "So, let us think of a stream of only 3 items and we have to keep 2 of them.We see the first item, we hold it in the list as our reservoir has space. We see the second item, we hold it in the list as our reservoir has space.\n",
    "We see the third item. Here is where things get interesting. We choose the third item to be in the list with probability 2/3.\n",
    "\n",
    "The probability of removing the first item is the probability of element 3 getting selected multiplied by the probability of Element 1 getting randomly chosen as the replacement candidate from the 2 elements in the reservoir. That probability is:\n",
    "2/3*1/2 = 1/3\n",
    "\n",
    "We can have the exact same argument for the Second Element and we can extend it for many elements.\n",
    "Thus each item has the same probability of getting selected: 2/3 or in general k/n\n"
   ]
  },
  {
   "cell_type": "code",
   "execution_count": 47,
   "metadata": {},
   "outputs": [],
   "source": [
    "import random\n",
    "\n",
    "def generator(max_limit):\n",
    "    \n",
    "    num = 1\n",
    "    while(num < max_limit):\n",
    "        num+=1\n",
    "        yield num\n",
    "        \n",
    "        \n",
    "## We have a stream of 10000 numbers here\n",
    "stream = generator(10000)\n",
    "\n",
    "\n",
    "\n"
   ]
  },
  {
   "cell_type": "code",
   "execution_count": 48,
   "metadata": {},
   "outputs": [
    {
     "name": "stdout",
     "output_type": "stream",
     "text": [
      "[141, 553, 7983, 8107, 6492]\n"
     ]
    }
   ],
   "source": [
    "## number of elements to select\n",
    "K = 5\n",
    "reservoir = []\n",
    "\n",
    "for i, element in enumerate(stream):\n",
    "    \n",
    "    if i + 1 <= K:\n",
    "        reservoir.append(element)\n",
    "        \n",
    "    else:\n",
    "        \n",
    "        ## probability to have i+1 item in the list\n",
    "        probability = K/(i+1)\n",
    "        ##if probability is less than the probability then that item can be inserted.\n",
    "        if random.random() < probability:\n",
    "            # Select item in stream and remove one of the k items already selected(each item has same probba of getting removed)\n",
    "             reservoir[random.choice(range(0,K))] = element\n",
    "        \n",
    "    #print(reservoir)\n",
    "                \n",
    "print(reservoir)\n",
    "        "
   ]
  },
  {
   "cell_type": "markdown",
   "metadata": {},
   "source": [
    "### Random Undersampling and Oversampling"
   ]
  },
  {
   "cell_type": "markdown",
   "metadata": {},
   "source": [
    "It is too often that we encounter an imbalanced dataset.\n",
    "A widely adopted technique for dealing with highly imbalanced datasets is called resampling. It consists of removing samples from the majority class (under-sampling) and/or adding more examples from the minority class (over-sampling)."
   ]
  },
  {
   "cell_type": "code",
   "execution_count": 49,
   "metadata": {},
   "outputs": [],
   "source": [
    "## Craete imbalanced dataset\n",
    "\n",
    "X, y = datasets.make_classification(\n",
    "    n_classes=2, class_sep=1.5, weights=[0.9, 0.1],\n",
    "    n_features=20, n_clusters_per_class=1,\n",
    "    n_samples=100, random_state=10\n",
    ")"
   ]
  },
  {
   "cell_type": "code",
   "execution_count": 50,
   "metadata": {},
   "outputs": [],
   "source": [
    "X = pd.DataFrame(X)\n",
    "X['target'] = y"
   ]
  },
  {
   "cell_type": "markdown",
   "metadata": {},
   "source": [
    "We can now do random oversampling and undersampling using:"
   ]
  },
  {
   "cell_type": "code",
   "execution_count": 51,
   "metadata": {},
   "outputs": [],
   "source": [
    "class_0 = len(X[X['target']==0])\n",
    "class_1 = len(X[X['target']==1])"
   ]
  },
  {
   "cell_type": "code",
   "execution_count": 52,
   "metadata": {},
   "outputs": [
    {
     "data": {
      "text/plain": [
       "(90, 10)"
      ]
     },
     "execution_count": 52,
     "metadata": {},
     "output_type": "execute_result"
    }
   ],
   "source": [
    "class_0, class_1"
   ]
  },
  {
   "cell_type": "code",
   "execution_count": 64,
   "metadata": {},
   "outputs": [],
   "source": [
    "#### Unsersample from majority class\n",
    "undersample_data = pd.concat([ X[X['target']==0].sample(class_1), X[X['target']==1]])"
   ]
  },
  {
   "cell_type": "code",
   "execution_count": 68,
   "metadata": {},
   "outputs": [],
   "source": [
    "#undersample_data"
   ]
  },
  {
   "cell_type": "markdown",
   "metadata": {},
   "source": [
    "We can now do oversampling, oversample from class with less data points using sample with replacement"
   ]
  },
  {
   "cell_type": "code",
   "execution_count": 72,
   "metadata": {},
   "outputs": [
    {
     "name": "stdout",
     "output_type": "stream",
     "text": [
      "180\n"
     ]
    }
   ],
   "source": [
    "oversampled_data = pd.concat([ X[X['target']==0] , X[X['target']==1].sample(class_0, replace=True) ])\n",
    "print(len(oversampled_data))\n"
   ]
  },
  {
   "cell_type": "markdown",
   "metadata": {},
   "source": [
    "b. Oversampling using SMOTE:\n",
    "In SMOTE (Synthetic Minority Oversampling Technique) we synthesize elements for the minority class, in the vicinity of already existing elements."
   ]
  },
  {
   "cell_type": "code",
   "execution_count": null,
   "metadata": {},
   "outputs": [],
   "source": []
  }
 ],
 "metadata": {
  "kernelspec": {
   "display_name": "Python 3",
   "language": "python",
   "name": "python3"
  },
  "language_info": {
   "codemirror_mode": {
    "name": "ipython",
    "version": 3
   },
   "file_extension": ".py",
   "mimetype": "text/x-python",
   "name": "python",
   "nbconvert_exporter": "python",
   "pygments_lexer": "ipython3",
   "version": "3.6.9"
  }
 },
 "nbformat": 4,
 "nbformat_minor": 4
}
